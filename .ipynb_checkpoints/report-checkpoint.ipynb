{
 "cells": [
  {
   "cell_type": "code",
   "execution_count": 2,
   "id": "7d07f48c",
   "metadata": {},
   "outputs": [],
   "source": [
    "import subprocess\n",
    "def evaluate_performance(program_name: str, run_args: str, run_count: int = 1) -> dict:\n",
    "    # 构建命令列表（拆分参数字符串为列表元素）\n",
    "    command = [program_name] + run_args.split()\n",
    "    \n",
    "    # 存储每次运行的性能数据\n",
    "    tok_per_s_list: List[float] = []\n",
    "    ftl_per_ms_list: List[float] = []\n",
    "    memory_usage_list: List[float] = []\n",
    "    power_consumption_list: List[float] = []\n",
    "    \n",
    "    def _run_single() -> Dict[str, float]:\n",
    "        \"\"\"单次运行程序并返回性能数据\"\"\"\n",
    "        try:\n",
    "            result = subprocess.run(\n",
    "                command,\n",
    "                stdout=subprocess.PIPE,\n",
    "                stderr=subprocess.PIPE,\n",
    "                text=True,\n",
    "                check=True\n",
    "            )\n",
    "        except subprocess.CalledProcessError as e:\n",
    "            raise RuntimeError(f\"第{len(tok_per_s_list)+1}次运行失败: {e.stderr}\") from e\n",
    "        except FileNotFoundError:\n",
    "            raise FileNotFoundError(f\"未找到程序: {program_name}\")\n",
    "        \n",
    "        output_lines = result.stdout.splitlines()\n",
    "        if len(output_lines) < 4:\n",
    "            raise ValueError(f\"第{len(tok_per_s_list)+1}次运行输出内容不足，无法提取性能数据\")\n",
    "        \n",
    "        performance_lines = output_lines[-4:]\n",
    "        try:\n",
    "            return {\n",
    "                'tok_per_s': float(performance_lines[0].split(': ')[1]),\n",
    "                'ftl_per_ms': float(performance_lines[1].split(': ')[1]),\n",
    "                'memory_usage': float(performance_lines[2].split(': ')[1]),\n",
    "                'power_consumption': float(performance_lines[3].split(': ')[1])\n",
    "            }\n",
    "        except (IndexError, ValueError) as e:\n",
    "            raise ValueError(f\"第{len(tok_per_s_list)+1}次运行性能数据格式错误: {e}\") from e\n",
    "    \n",
    "    # 执行多次运行\n",
    "    for _ in range(run_count):\n",
    "        single_result = _run_single()\n",
    "        tok_per_s_list.append(single_result['tok_per_s'])\n",
    "        ftl_per_ms_list.append(single_result['ftl_per_ms'])\n",
    "        memory_usage_list.append(single_result['memory_usage'])\n",
    "        power_consumption_list.append(single_result['power_consumption'])\n",
    "    \n",
    "    # 计算平均值\n",
    "    def _average(data_list: List[float]) -> float:\n",
    "        return sum(data_list) / len(data_list)\n",
    "    \n",
    "    return {\n",
    "        'program_name': program_name,\n",
    "        'run_args': run_args,\n",
    "        'run_count': run_count,  # 新增：记录实际运行次数\n",
    "        'tok_per_s_avg': _average(tok_per_s_list),\n",
    "        'ftl_per_ms_avg': _average(ftl_per_ms_list),\n",
    "        'memory_usage_avg': _average(memory_usage_list),\n",
    "        'power_consumption_avg': _average(power_consumption_list)\n",
    "    }"
   ]
  },
  {
   "cell_type": "code",
   "execution_count": 3,
   "id": "36918d63",
   "metadata": {},
   "outputs": [
    {
     "name": "stdout",
     "output_type": "stream",
     "text": [
      "build_debug.sh\t     modelq_15M.bin\trun_avx.c\t\t run.out\r\n",
      "build_perf.sh\t     modelq16_110M.bin\trun_avx_plus.c\t\t run_paral.c\r\n",
      "convert.py\t     modelq16_15M.bin\trun_avx_plus.out\t run_paral.out\r\n",
      "json.hpp\t     modelq16_42M.bin\trun_avx_plus_sparse.c\t runq16.out\r\n",
      "llama2.c\t     modelq_42M.bin\trun_avx_plus_sparse.out  runq.out\r\n",
      "matplotlib-tutorial  report.ipynb\trun.c\t\t\t stories110M.pt\r\n",
      "model_110M.bin\t     run0.c\t\trun_int16.c\t\t stories15M.pt\r\n",
      "model_15M.bin\t     run0.out\t\trun_no_paral.c\t\t stories42M.pt\r\n",
      "model_42M.bin\t     run2.c\t\trun_no_paral_o0.out\t tokenizer.bin\r\n",
      "modelq_110M.bin      run4.c\t\trun_no_paral.out\t Untitled.ipynb\r\n"
     ]
    }
   ],
   "source": [
    "!ls"
   ]
  },
  {
   "cell_type": "code",
   "execution_count": null,
   "id": "e33ef7c9",
   "metadata": {},
   "outputs": [],
   "source": []
  }
 ],
 "metadata": {
  "kernelspec": {
   "display_name": "Python 3 (ipykernel)",
   "language": "python",
   "name": "python3"
  },
  "language_info": {
   "codemirror_mode": {
    "name": "ipython",
    "version": 3
   },
   "file_extension": ".py",
   "mimetype": "text/x-python",
   "name": "python",
   "nbconvert_exporter": "python",
   "pygments_lexer": "ipython3",
   "version": "3.12.3"
  }
 },
 "nbformat": 4,
 "nbformat_minor": 5
}
